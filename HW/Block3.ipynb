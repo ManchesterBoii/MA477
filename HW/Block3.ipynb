{
 "cells": [
  {
   "cell_type": "markdown",
   "metadata": {},
   "source": [
    "## Block 2 Homework\n",
    "## Huram-ABi Nzia Yotchoum"
   ]
  },
  {
   "cell_type": "code",
   "execution_count": 65,
   "metadata": {},
   "outputs": [],
   "source": [
    "import pandas as pd\n",
    "import numpy as np\n",
    "import matplotlib.pyplot as plt\n",
    "import seaborn as sns\n",
    "from sklearn.tree import DecisionTreeClassifier\n",
    "from sklearn.ensemble import BaggingClassifier\n",
    "from sklearn.ensemble import RandomForestClassifier, ExtraTreesClassifier\n",
    "from sklearn.svm import LinearSVC\n",
    "from sklearn.neural_network import MLPClassifier\n",
    "from sklearn.model_selection import train_test_split as tts\n",
    "from sklearn.metrics import accuracy_score as score\n",
    "from sklearn.metrics import confusion_matrix as cmatrix\n",
    "from sklearn import tree\n",
    "from sklearn import metrics\n",
    "\n",
    "from PIL import Image\n"
   ]
  },
  {
   "cell_type": "markdown",
   "metadata": {},
   "source": [
    "### Documentation\n",
    "\n",
    "    https://github.com/ageron/handson-ml2/blob/master/07_ensemble_learning_and_random_forests.ipynb\n",
    "    "
   ]
  },
  {
   "cell_type": "markdown",
   "metadata": {},
   "source": [
    "### Lesson 24"
   ]
  },
  {
   "cell_type": "markdown",
   "metadata": {},
   "source": [
    "#### ISLR Chapter 8 Q 1"
   ]
  },
  {
   "cell_type": "code",
   "execution_count": 66,
   "metadata": {},
   "outputs": [],
   "source": [
    "Image.open(\"Q1_a.png\").show()\n",
    "Image.open(\"Q1b.png\").show()"
   ]
  },
  {
   "cell_type": "markdown",
   "metadata": {},
   "source": [
    "#### ISLR Chapter 8 Q 3"
   ]
  },
  {
   "cell_type": "code",
   "execution_count": null,
   "metadata": {},
   "outputs": [],
   "source": []
  },
  {
   "cell_type": "markdown",
   "metadata": {},
   "source": [
    "#### ISLR Chapter 8 Q 4"
   ]
  },
  {
   "cell_type": "code",
   "execution_count": 3,
   "metadata": {},
   "outputs": [],
   "source": [
    "\n",
    "# 4a.\n",
    "#                 X_1 >= 1 \n",
    "#                 ________\n",
    "#                |        |\n",
    "#                |        |\n",
    "#                |        | X_2 >= 1\n",
    "#                5     _______\n",
    "#                     |       |\n",
    "#                     |       |\n",
    "#                     |       | X_1 < 0\n",
    "#                    15    _______\n",
    "#                         |       |\n",
    "#                         |       |\n",
    "#                         |       | X_2 < 0\n",
    "#                         3    _______\n",
    "#                             |       |\n",
    "#                             |       |\n",
    "#                             |       |\n",
    "#                             10      0\n",
    "\n",
    "\n",
    "# 4b.\n",
    "\n",
    "#                   \n",
    "#                  _____________________________\n",
    "#                 |                             |\n",
    "#                 |            2.49             |\n",
    "#               2 |-----------------------------|\n",
    "#                 | -1.06 |      0.21           |\n",
    "#       X2        |       |                     |\n",
    "#               1 |-----------------------------|\n",
    "#                 |             |               |\n",
    "#                 |             |               |\n",
    "#                 |  -1.80      |     0.63      |\n",
    "#                 |             |               |\n",
    "#                 |_____________|_______________|\n",
    "#                         0     1\n",
    "#\n",
    "#                                X1"
   ]
  },
  {
   "cell_type": "markdown",
   "metadata": {},
   "source": [
    "### Lesson 25"
   ]
  },
  {
   "cell_type": "markdown",
   "metadata": {},
   "source": [
    "#### ISLR Chapter 8 Q 5"
   ]
  },
  {
   "cell_type": "code",
   "execution_count": 4,
   "metadata": {},
   "outputs": [
    {
     "name": "stdout",
     "output_type": "stream",
     "text": [
      "majority vote method:\n",
      "Classification of red  0.6416666666666666\n",
      "Classification of green  0.3583333333333334\n",
      "average method:\n",
      "Classification of red  0.45\n",
      "Classification of green  0.55\n"
     ]
    }
   ],
   "source": [
    "\"\"\"\n",
    "Suppose we produce ten bootstrapped samples from a data set\n",
    "containing red and green classes. We then apply a classification tree\n",
    "to each bootstrapped sample and, for a specific value of X, produce\n",
    "10 estimates of P(Class is Red|X):\n",
    "0.1, 0.15, 0.2, 0.2, 0.55, 0.6, 0.6, 0.65, 0.7, and 0.75.\n",
    "There are two common ways to combine these results together into a\n",
    "single class prediction. One is the majority vote approach discussed in\n",
    "this chapter. The second approach is to classify based on the average\n",
    "probability. In this example, what is the final classification under each\n",
    "of these two approaches\n",
    "\"\"\"\n",
    "p_x = np.array([0.1, 0.15, 0.2, 0.2, 0.55, 0.6, 0.6, 0.65, 0.7, 0.75])\n",
    "\n",
    "# majority vote: the overall prediction is the most commonly occurring majority vote class among the B predictions\n",
    "\n",
    "p_red = p_x[p_x >= 0.5].mean()\n",
    "p_green = 1 - p_red\n",
    "\n",
    "print(\"majority vote method:\")\n",
    "print(\"Classification of red \", p_red)\n",
    "print(\"Classification of green \", p_green)\n",
    "\n",
    "# average method\n",
    "\n",
    "p_red = np.mean(p_x)\n",
    "p_green = 1 - p_red\n",
    "\n",
    "print(\"average method:\")\n",
    "print(\"Classification of red \", p_red)\n",
    "print(\"Classification of green \", p_green)\n",
    "\n"
   ]
  },
  {
   "cell_type": "markdown",
   "metadata": {},
   "source": [
    "#### ISLR Chapter 8 Q 6"
   ]
  },
  {
   "cell_type": "code",
   "execution_count": 5,
   "metadata": {},
   "outputs": [
    {
     "data": {
      "text/plain": [
       "'\\nProvide a detailed explanation of the algorithm that is used to fit a\\nregression tree. \\n\\nThe algorithm is as follows: \\n\\n    1. Select the best split point (X, y) for the current node. This is\\n    done by maximizing the information gain.\\n    2. For each possible split point, compute the average of the y\\n    values for the left and right nodes.\\n    3. Compute the variance of the y values for the left and right nodes.\\n    4. Compute the information gain for each possible split point.\\n    5. Choose the split point with the largest information gain.\\n    6. Split the data set into two subsets.\\n    7. Recursively build the regression tree for each subset.\\n \\n\\n\\n\\n\\n'"
      ]
     },
     "execution_count": 5,
     "metadata": {},
     "output_type": "execute_result"
    }
   ],
   "source": [
    "'''\n",
    "Provide a detailed explanation of the algorithm that is used to fit a\n",
    "regression tree. \n",
    "\n",
    "The algorithm is as follows: \n",
    "\n",
    "    1. Select the best split point (X, y) for the current node. This is\n",
    "    done by maximizing the information gain.\n",
    "    2. For each possible split point, compute the average of the y\n",
    "    values for the left and right nodes.\n",
    "    3. Compute the variance of the y values for the left and right nodes.\n",
    "    4. Compute the information gain for each possible split point.\n",
    "    5. Choose the split point with the largest information gain.\n",
    "    6. Split the data set into two subsets.\n",
    "    7. Recursively build the regression tree for each subset.\n",
    " \n",
    "\n",
    "\n",
    "\n",
    "\n",
    "'''"
   ]
  },
  {
   "cell_type": "markdown",
   "metadata": {},
   "source": [
    "### Lesson 26"
   ]
  },
  {
   "cell_type": "markdown",
   "metadata": {},
   "source": [
    "#### ISLR Chapter 8 Q 7 (bagging)"
   ]
  },
  {
   "cell_type": "code",
   "execution_count": 6,
   "metadata": {},
   "outputs": [
    {
     "name": "stdout",
     "output_type": "stream",
     "text": [
      "<class 'pandas.core.frame.DataFrame'>\n",
      "RangeIndex: 506 entries, 0 to 505\n",
      "Data columns (total 13 columns):\n",
      " #   Column   Non-Null Count  Dtype  \n",
      "---  ------   --------------  -----  \n",
      " 0   crim     506 non-null    float64\n",
      " 1   zn       506 non-null    float64\n",
      " 2   indus    506 non-null    float64\n",
      " 3   chas     506 non-null    int64  \n",
      " 4   nox      506 non-null    float64\n",
      " 5   rm       506 non-null    float64\n",
      " 6   age      506 non-null    float64\n",
      " 7   dis      506 non-null    float64\n",
      " 8   rad      506 non-null    int64  \n",
      " 9   tax      506 non-null    int64  \n",
      " 10  ptratio  506 non-null    float64\n",
      " 11  lstat    506 non-null    float64\n",
      " 12  medv     506 non-null    float64\n",
      "dtypes: float64(10), int64(3)\n",
      "memory usage: 51.5 KB\n"
     ]
    },
    {
     "data": {
      "text/plain": [
       "array([ 1,  2,  3,  5,  4,  8,  6,  7, 24], dtype=int64)"
      ]
     },
     "execution_count": 6,
     "metadata": {},
     "output_type": "execute_result"
    }
   ],
   "source": [
    "Boston_df = pd.read_csv('Boston.csv')\n",
    "Boston_df = Boston_df.drop(['Unnamed: 0'], axis=1)\n",
    "Boston_df.info()\n",
    "Boston_df.describe()\n",
    "Boston_df['rad'].unique()\n"
   ]
  },
  {
   "cell_type": "code",
   "execution_count": 8,
   "metadata": {},
   "outputs": [
    {
     "data": {
      "image/png": "[encoded data removed]",
      "text/plain": [
       "<Figure size 432x288 with 1 Axes>"
      ]
     },
     "metadata": {
      "needs_background": "light"
     },
     "output_type": "display_data"
    }
   ],
   "source": [
    "from sklearn import metrics\n",
    "\n",
    "\n",
    "X_train, X_test, y_train, y_test = tts(Boston_df.drop('rad', axis=1), Boston_df['rad'], test_size=0.2, random_state=0)\n",
    "\n",
    "\n",
    "estim = np.arange(10, 560, 50)\n",
    "mtry = np.arange(1, len(Boston_df.drop('rad', axis=1).columns), 1)\n",
    "\n",
    "\n",
    "\n",
    "for feat in mtry:\n",
    "    \n",
    "    error = []\n",
    "\n",
    "    for estimator in estim:\n",
    "        bag_clf = BaggingClassifier(DecisionTreeClassifier(), n_estimators=estimator, bootstrap=True, n_jobs=-1, max_features=feat, random_state=0)\n",
    "\n",
    "        bag_clf.fit(X_train, y_train)\n",
    "\n",
    "        y_pred = bag_clf.predict(X_test)\n",
    "\n",
    "        error.append(metrics.mean_squared_error(y_test, y_pred))\n",
    "\n",
    "    plt.plot(estim, error)\n",
    "    plt.xlabel('Estimators')\n",
    "    plt.ylabel('Mean Squared Error')\n",
    "    plt.legend(mtry)\n",
    "plt.show()\n",
    "\n",
    "    "
   ]
  },
  {
   "cell_type": "markdown",
   "metadata": {},
   "source": [
    "### Lesson 27"
   ]
  },
  {
   "cell_type": "markdown",
   "metadata": {},
   "source": [
    "#### ISLR Chapter 8 Q 7 (Random Forest)"
   ]
  },
  {
   "cell_type": "code",
   "execution_count": 9,
   "metadata": {},
   "outputs": [
    {
     "data": {
      "image/png": "[encoded data removed]",
      "text/plain": [
       "<Figure size 432x288 with 1 Axes>"
      ]
     },
     "metadata": {
      "needs_background": "light"
     },
     "output_type": "display_data"
    }
   ],
   "source": [
    "X_train, X_test, y_train, y_test = tts(Boston_df.drop('rad', axis=1), Boston_df['rad'], test_size=0.2, random_state=0)\n",
    "\n",
    "\n",
    "estim = np.arange(10, 560, 50)\n",
    "mtry = np.arange(1, len(Boston_df.drop('rad', axis=1).columns), 1)\n",
    "\n",
    "for feat in mtry:\n",
    "    error = []\n",
    "    for estimator in estim:\n",
    "        \n",
    "        rand_for = RandomForestClassifier(n_estimators=estimator, random_state=0, max_features=feat)\n",
    "\n",
    "        rand_for.fit(X_train, y_train)\n",
    "\n",
    "        y_pred = rand_for.predict(X_test)\n",
    "\n",
    "        error.append(metrics.mean_squared_error(y_test, y_pred))\n",
    "    \n",
    "    plt.plot(estim, error)\n",
    "    plt.xlabel('Estimators')\n",
    "    plt.ylabel('Mean Squared Error')\n",
    "    plt.legend(mtry)\n",
    "plt.show()\n"
   ]
  },
  {
   "cell_type": "markdown",
   "metadata": {},
   "source": [
    "### Lesson 28"
   ]
  },
  {
   "cell_type": "markdown",
   "metadata": {},
   "source": [
    "#### Geron Chapter 7 Q 1"
   ]
  },
  {
   "cell_type": "code",
   "execution_count": 11,
   "metadata": {},
   "outputs": [
    {
     "data": {
      "text/plain": [
       "'\\nIf you have trained five different models on the exact same training data, \\nand they all achieve 95% precision, is there any chance that you \\ncan combine these models to get better results? If so, how? If not, why?\\n\\nYes there is a chance, because you can combine all the models into one and create an ensemble model.\\n\\n'"
      ]
     },
     "execution_count": 11,
     "metadata": {},
     "output_type": "execute_result"
    }
   ],
   "source": [
    "\"\"\"\n",
    "If you have trained five different models on the exact same training data, \n",
    "and they all achieve 95% precision, is there any chance that you \n",
    "can combine these models to get better results? If so, how? If not, why?\n",
    "\n",
    "Yes there is a chance, because you can combine all the models into one and create an ensemble model.\n",
    "\n",
    "\"\"\""
   ]
  },
  {
   "cell_type": "markdown",
   "metadata": {},
   "source": [
    "#### Geron Chapter 7 Q 4"
   ]
  },
  {
   "cell_type": "code",
   "execution_count": null,
   "metadata": {},
   "outputs": [],
   "source": [
    "\"\"\"\n",
    "What is the benefit of out-of-bag evaluation?\n",
    "\n",
    "The benefit of out-of-bag evaluation is that it allows you to estimate the generalization error of your model.\n",
    "It is a measure of how well the model generalizes to new data. It is not a measure of how well the model is able to\n",
    "predict new data. \n",
    "\n",
    "\"\"\""
   ]
  },
  {
   "cell_type": "markdown",
   "metadata": {},
   "source": [
    "#### Geron Chapter 7 Q 9"
   ]
  },
  {
   "cell_type": "code",
   "execution_count": 26,
   "metadata": {},
   "outputs": [],
   "source": [
    "from sklearn.datasets import fetch_openml\n",
    "\n",
    "mnist = fetch_openml('mnist_784', version=1, as_frame=False)\n",
    "mnist.target = mnist.target.astype(np.uint8)\n",
    "\n",
    "X_train_val, X_test, y_train_val, y_test = tts(mnist.data, mnist.target, test_size=10000, random_state=42)\n",
    "X_train, X_val, y_train, y_val = tts(X_train_val, y_train_val, test_size=10000, random_state=42)"
   ]
  },
  {
   "cell_type": "code",
   "execution_count": 23,
   "metadata": {},
   "outputs": [],
   "source": [
    "randfor = RandomForestClassifier(n_estimators=100, random_state=42)\n",
    "Xtres = ExtraTreesClassifier(n_estimators=100, random_state=42)\n",
    "svm = LinearSVC(max_iter=100, tol=20, random_state=42)\n",
    "mlp= MLPClassifier(random_state=42)"
   ]
  },
  {
   "cell_type": "code",
   "execution_count": 28,
   "metadata": {},
   "outputs": [
    {
     "data": {
      "text/plain": [
       "MLPClassifier(random_state=42)"
      ]
     },
     "execution_count": 28,
     "metadata": {},
     "output_type": "execute_result"
    }
   ],
   "source": [
    "rand_for.fit(X_train, y_train)\n",
    "Xtres.fit(X_train, y_train)\n",
    "svm.fit(X_train, y_train)\n",
    "mlp.fit(X_train, y_train)"
   ]
  },
  {
   "cell_type": "code",
   "execution_count": 29,
   "metadata": {},
   "outputs": [
    {
     "name": "stdout",
     "output_type": "stream",
     "text": [
      "Random Forest Classifier ACC:  0.9686\n",
      "Extra Trees Classifier ACC:  0.9715\n",
      "SVM ACC:  0.859\n",
      "MLP ACC:  0.9603\n"
     ]
    }
   ],
   "source": [
    "print(\"Random Forest Classifier ACC: \", rand_for.score(X_val, y_val))\n",
    "print(\"Extra Trees Classifier ACC: \", Xtres.score(X_val, y_val))\n",
    "print(\"SVM ACC: \", svm.score(X_val, y_val))\n",
    "print(\"MLP ACC: \", mlp.score(X_val, y_val))"
   ]
  },
  {
   "cell_type": "code",
   "execution_count": 31,
   "metadata": {},
   "outputs": [
    {
     "data": {
      "text/plain": [
       "VotingClassifier(estimators=[('rand_for',\n",
       "                              RandomForestClassifier(max_features=11,\n",
       "                                                     n_estimators=510,\n",
       "                                                     random_state=0)),\n",
       "                             ('Xtres', ExtraTreesClassifier(random_state=42)),\n",
       "                             ('mlp', MLPClassifier(random_state=42))])"
      ]
     },
     "execution_count": 31,
     "metadata": {},
     "output_type": "execute_result"
    }
   ],
   "source": [
    "from sklearn.ensemble import VotingClassifier\n",
    "\n",
    "vote = VotingClassifier(estimators=[('rand_for', rand_for), ('Xtres', Xtres), ('mlp', mlp)] , voting='hard')\n",
    "\n",
    "vote.fit(X_train, y_train)"
   ]
  },
  {
   "cell_type": "code",
   "execution_count": 32,
   "metadata": {},
   "outputs": [
    {
     "name": "stdout",
     "output_type": "stream",
     "text": [
      "Voting Classifier ACC:  0.9738\n"
     ]
    }
   ],
   "source": [
    "print(\"Voting Classifier ACC: \", vote.score(X_val, y_val))"
   ]
  },
  {
   "cell_type": "code",
   "execution_count": 33,
   "metadata": {},
   "outputs": [
    {
     "data": {
      "text/plain": [
       "RandomForestClassifier(oob_score=True, random_state=42)"
      ]
     },
     "execution_count": 33,
     "metadata": {},
     "output_type": "execute_result"
    }
   ],
   "source": [
    "### Blender\n",
    "\n",
    "X_val_predictions = np.empty((len(X_val), 4), dtype=np.float32)\n",
    "\n",
    "X_val_predictions[:, 0] = rand_for.predict(X_val)\n",
    "X_val_predictions[:, 1] = Xtres.predict(X_val)\n",
    "X_val_predictions[:, 2] = svm.predict(X_val)\n",
    "X_val_predictions[:, 3] = mlp.predict(X_val)\n",
    "\n",
    "\n",
    "rand_for_blender = RandomForestClassifier(n_estimators=100, random_state=42, oob_score=True)\n",
    "rand_for_blender.fit(X_val_predictions, y_val)\n",
    "\n",
    "\n",
    "\n"
   ]
  },
  {
   "cell_type": "code",
   "execution_count": 34,
   "metadata": {},
   "outputs": [
    {
     "data": {
      "text/plain": [
       "0.9708"
      ]
     },
     "execution_count": 34,
     "metadata": {},
     "output_type": "execute_result"
    }
   ],
   "source": [
    "rand_for_blender.oob_score_"
   ]
  },
  {
   "cell_type": "code",
   "execution_count": 35,
   "metadata": {},
   "outputs": [
    {
     "name": "stdout",
     "output_type": "stream",
     "text": [
      "Blender Accuracy 0.9676\n"
     ]
    }
   ],
   "source": [
    "X_test_predictions = np.empty((len(X_test), 4), dtype=np.float32)\n",
    "\n",
    "X_test_predictions[:, 0] = rand_for.predict(X_test)\n",
    "X_test_predictions[:, 1] = Xtres.predict(X_test)\n",
    "X_test_predictions[:, 2] = svm.predict(X_test)\n",
    "X_test_predictions[:, 3] = mlp.predict(X_test)\n",
    "\n",
    "y_pred = rand_for_blender.predict(X_test_predictions)\n",
    "\n",
    "print(\"Blender Accuracy\", metrics.accuracy_score(y_test, y_pred))\n",
    "\n"
   ]
  },
  {
   "cell_type": "markdown",
   "metadata": {},
   "source": [
    "### Lesson 29"
   ]
  },
  {
   "cell_type": "markdown",
   "metadata": {},
   "source": [
    "#### ISLR Chapter 10 Q 1"
   ]
  },
  {
   "cell_type": "code",
   "execution_count": 67,
   "metadata": {},
   "outputs": [],
   "source": [
    "Image.open(\"D10_1.png\").show()"
   ]
  },
  {
   "cell_type": "markdown",
   "metadata": {},
   "source": [
    "### Lesson 30"
   ]
  },
  {
   "cell_type": "code",
   "execution_count": 62,
   "metadata": {},
   "outputs": [],
   "source": [
    "from tensorflow.keras.datasets import mnist, fashion_mnist\n",
    "from tensorflow.keras.utils import to_categorical\n",
    "from tensorflow.keras.layers import Conv2D, Dense, Flatten, MaxPooling2D\n",
    "from tensorflow.keras.models import Sequential\n",
    "\n",
    "\n"
   ]
  },
  {
   "cell_type": "markdown",
   "metadata": {},
   "source": [
    "#### Dietel Chapter 16 Q 1"
   ]
  },
  {
   "cell_type": "code",
   "execution_count": 68,
   "metadata": {},
   "outputs": [],
   "source": [
    "(X_train, y_train), (X_test, y_test) = fashion_mnist.load_data()\n",
    "X_train = X_train.reshape((60000, 28, 28, 1))\n",
    "X_test = X_test.reshape((10000, 28, 28, 1))\n",
    "y_train = to_categorical(y_train)\n",
    "y_test = to_categorical(y_test)\n",
    "X_train = X_train.astype('float32') / 255\n",
    "\n",
    "X_test = X_test.astype('float32') / 255"
   ]
  },
  {
   "cell_type": "code",
   "execution_count": 69,
   "metadata": {},
   "outputs": [
    {
     "name": "stdout",
     "output_type": "stream",
     "text": [
      "Epoch 1/5\n",
      "844/844 [==============================] - 26s 31ms/step - loss: 0.4884 - accuracy: 0.8262 - val_loss: 0.3486 - val_accuracy: 0.8742\n",
      "Epoch 2/5\n",
      "844/844 [==============================] - 26s 31ms/step - loss: 0.3272 - accuracy: 0.8840 - val_loss: 0.3183 - val_accuracy: 0.8822\n",
      "Epoch 3/5\n",
      "844/844 [==============================] - 26s 30ms/step - loss: 0.2845 - accuracy: 0.8979 - val_loss: 0.2856 - val_accuracy: 0.8977\n",
      "Epoch 4/5\n",
      "844/844 [==============================] - 27s 32ms/step - loss: 0.2553 - accuracy: 0.9077 - val_loss: 0.2847 - val_accuracy: 0.8947\n",
      "Epoch 5/5\n",
      "844/844 [==============================] - 28s 33ms/step - loss: 0.2300 - accuracy: 0.9160 - val_loss: 0.2669 - val_accuracy: 0.9022\n"
     ]
    },
    {
     "data": {
      "text/plain": [
       "<keras.callbacks.History at 0x1bd891845b0>"
      ]
     },
     "execution_count": 69,
     "metadata": {},
     "output_type": "execute_result"
    }
   ],
   "source": [
    "cnn1 = Sequential()\n",
    "cnn1.add(Conv2D(filters=64, kernel_size=(3, 3), activation='relu', input_shape=(28, 28, 1)))\n",
    "cnn1.add(MaxPooling2D(pool_size=(2, 2)))\n",
    "cnn1.add(Conv2D(filters=128, kernel_size=(3, 3), activation='relu'))\n",
    "cnn1.add(MaxPooling2D(pool_size=(2, 2)))\n",
    "cnn1.add(Flatten())\n",
    "cnn1.add(Dense(units=10, activation='softmax'))\n",
    "cnn1.compile(optimizer='adam',\n",
    "                  loss='categorical_crossentropy',\n",
    "                  metrics=['accuracy'])\n",
    "cnn1.fit(X_train, y_train, epochs=5, batch_size=64,\n",
    "              validation_split=0.1)"
   ]
  },
  {
   "cell_type": "code",
   "execution_count": 70,
   "metadata": {},
   "outputs": [
    {
     "name": "stdout",
     "output_type": "stream",
     "text": [
      "313/313 [==============================] - 2s 7ms/step - loss: 0.2831 - accuracy: 0.8991\n",
      "CNN Accuracy:  0.8991000056266785\n",
      "CNN Loss:  0.28309690952301025\n"
     ]
    }
   ],
   "source": [
    "loss, accuracy = cnn1.evaluate(X_test, y_test)\n",
    "\n",
    "print(\"CNN Accuracy: \", accuracy)\n",
    "print(\"CNN Loss: \", loss)"
   ]
  },
  {
   "cell_type": "code",
   "execution_count": 71,
   "metadata": {},
   "outputs": [
    {
     "name": "stdout",
     "output_type": "stream",
     "text": [
      "0: 0.0000271801%\n",
      "1: 0.0000001152%\n",
      "2: 0.0000033489%\n",
      "3: 0.0000149663%\n",
      "4: 0.0000028003%\n",
      "5: 0.1838986180%\n",
      "6: 0.0000185575%\n",
      "7: 0.3683692310%\n",
      "8: 0.0033274275%\n",
      "9: 99.4443356991%\n"
     ]
    }
   ],
   "source": [
    "predictions = cnn1.predict(X_test)\n",
    "for index, probability in enumerate(predictions[0]):\n",
    "    print(f'{index}: {probability:.10%}')"
   ]
  },
  {
   "cell_type": "markdown",
   "metadata": {},
   "source": [
    "#### Dietel Chapter 16 Q 2"
   ]
  },
  {
   "cell_type": "code",
   "execution_count": 72,
   "metadata": {},
   "outputs": [],
   "source": [
    "(X_train, y_train), (X_test, y_test) = mnist.load_data()\n",
    "X_train = X_train.reshape((60000, 28, 28, 1))\n",
    "X_test = X_test.reshape((10000, 28, 28, 1))\n",
    "y_train = to_categorical(y_train)\n",
    "y_test = to_categorical(y_test)\n",
    "X_train = X_train.astype('float32') / 255\n",
    "\n",
    "X_test = X_test.astype('float32') / 255"
   ]
  },
  {
   "cell_type": "code",
   "execution_count": 73,
   "metadata": {},
   "outputs": [
    {
     "name": "stdout",
     "output_type": "stream",
     "text": [
      "Epoch 1/5\n",
      "844/844 [==============================] - 27s 31ms/step - loss: 0.1620 - accuracy: 0.9524 - val_loss: 0.0465 - val_accuracy: 0.9853\n",
      "Epoch 2/5\n",
      "844/844 [==============================] - 27s 32ms/step - loss: 0.0474 - accuracy: 0.9859 - val_loss: 0.0375 - val_accuracy: 0.9900\n",
      "Epoch 3/5\n",
      "844/844 [==============================] - 27s 32ms/step - loss: 0.0341 - accuracy: 0.9889 - val_loss: 0.0297 - val_accuracy: 0.9920\n",
      "Epoch 4/5\n",
      "844/844 [==============================] - 27s 32ms/step - loss: 0.0243 - accuracy: 0.9925 - val_loss: 0.0306 - val_accuracy: 0.9917\n",
      "Epoch 5/5\n",
      "844/844 [==============================] - 27s 32ms/step - loss: 0.0188 - accuracy: 0.9938 - val_loss: 0.0346 - val_accuracy: 0.9915\n"
     ]
    },
    {
     "data": {
      "text/plain": [
       "<keras.callbacks.History at 0x1bdc2468640>"
      ]
     },
     "execution_count": 73,
     "metadata": {},
     "output_type": "execute_result"
    }
   ],
   "source": [
    "cnn = Sequential()\n",
    "cnn.add(Conv2D(filters=64, kernel_size=(3, 5), activation='relu', input_shape=(28, 28, 1)))\n",
    "cnn.add(MaxPooling2D(pool_size=(2, 2)))\n",
    "cnn.add(Conv2D(filters=128, kernel_size=(3, 5), activation='relu'))\n",
    "cnn.add(MaxPooling2D(pool_size=(2, 2)))\n",
    "cnn.add(Flatten())\n",
    "cnn.add(Dense(units=10, activation='softmax'))\n",
    "cnn.compile(optimizer='adam',\n",
    "                  loss='categorical_crossentropy',\n",
    "                  metrics=['accuracy'])\n",
    "cnn.fit(X_train, y_train, epochs=5, batch_size=64,\n",
    "              validation_split=0.1)\n"
   ]
  },
  {
   "cell_type": "code",
   "execution_count": 60,
   "metadata": {},
   "outputs": [
    {
     "name": "stdout",
     "output_type": "stream",
     "text": [
      "313/313 [==============================] - 2s 6ms/step - loss: 0.0379 - accuracy: 0.9882\n",
      "CNN Accuracy:  0.9882000088691711\n",
      "CNN Loss:  0.0379319004714489\n"
     ]
    }
   ],
   "source": [
    "loss, accuracy = cnn.evaluate(X_test, y_test)\n",
    "\n",
    "print(\"CNN Accuracy: \", accuracy)\n",
    "print(\"CNN Loss: \", loss)"
   ]
  },
  {
   "cell_type": "code",
   "execution_count": 61,
   "metadata": {},
   "outputs": [
    {
     "name": "stdout",
     "output_type": "stream",
     "text": [
      "0: 0.0000000005%\n",
      "1: 0.0000000113%\n",
      "2: 0.0000347892%\n",
      "3: 0.0000299082%\n",
      "4: 0.0000000001%\n",
      "5: 0.0000000078%\n",
      "6: 0.0000000000%\n",
      "7: 99.9999284744%\n",
      "8: 0.0000000459%\n",
      "9: 0.0000026494%\n"
     ]
    }
   ],
   "source": [
    "predictions = cnn.predict(X_test)\n",
    "for index, probability in enumerate(predictions[0]):\n",
    "    print(f'{index}: {probability:.10%}')\n"
   ]
  },
  {
   "cell_type": "code",
   "execution_count": null,
   "metadata": {},
   "outputs": [],
   "source": []
  },
  {
   "cell_type": "code",
   "execution_count": null,
   "metadata": {},
   "outputs": [],
   "source": []
  }
 ],
 "metadata": {
  "interpreter": {
   "hash": "f05d1836f565e734bee2a2d587d08f187f3266fc422aced16d915753a0016c05"
  },
  "kernelspec": {
   "display_name": "Python 3.10.3 64-bit",
   "language": "python",
   "name": "python3"
  },
  "language_info": {
   "codemirror_mode": {
    "name": "ipython",
    "version": 3
   },
   "file_extension": ".py",
   "mimetype": "text/x-python",
   "name": "python",
   "nbconvert_exporter": "python",
   "pygments_lexer": "ipython3",
   "version": "3.10.3"
  },
  "orig_nbformat": 4
 },
 "nbformat": 4,
 "nbformat_minor": 2
}
